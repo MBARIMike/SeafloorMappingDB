{
 "cells": [
  {
   "cell_type": "markdown",
   "metadata": {},
   "source": [
    "### Read start_date and track_length for all Missions and plot them over time"
   ]
  },
  {
   "cell_type": "code",
   "execution_count": 16,
   "metadata": {},
   "outputs": [
    {
     "name": "stdout",
     "output_type": "stream",
     "text": [
      "{'data': {'all_missions': [{'track_length': 765.3, 'start_date': '2019-03-08T21:17:34.876857', 'name': '2019/20190308m2'}, {'track_length': 6294.8, 'start_date': '2019-03-14T16:41:52.696998', 'name': '2019/20190314m1'}, {'track_length': 2497.5, 'start_date': '2019-01-24T18:12:32.236999', 'name': '2019/20190124m1'}, {'track_length': 6993.3, 'start_date': '2019-01-25T20:21:56.958000', 'name': '2019/20190125m1'}, {'track_length': 6270.4, 'start_date': '2019-03-08T17:20:00.039999', 'name': '2019/20190308m1'}]}}\n"
     ]
    },
    {
     "data": {
      "text/html": [
       "<div>\n",
       "<style scoped>\n",
       "    .dataframe tbody tr th:only-of-type {\n",
       "        vertical-align: middle;\n",
       "    }\n",
       "\n",
       "    .dataframe tbody tr th {\n",
       "        vertical-align: top;\n",
       "    }\n",
       "\n",
       "    .dataframe thead th {\n",
       "        text-align: right;\n",
       "    }\n",
       "</style>\n",
       "<table border=\"1\" class=\"dataframe\">\n",
       "  <thead>\n",
       "    <tr style=\"text-align: right;\">\n",
       "      <th></th>\n",
       "      <th>track_length</th>\n",
       "      <th>start_date</th>\n",
       "      <th>name</th>\n",
       "    </tr>\n",
       "  </thead>\n",
       "  <tbody>\n",
       "    <tr>\n",
       "      <th>0</th>\n",
       "      <td>765.3</td>\n",
       "      <td>2019-03-08T21:17:34.876857</td>\n",
       "      <td>2019/20190308m2</td>\n",
       "    </tr>\n",
       "    <tr>\n",
       "      <th>1</th>\n",
       "      <td>6294.8</td>\n",
       "      <td>2019-03-14T16:41:52.696998</td>\n",
       "      <td>2019/20190314m1</td>\n",
       "    </tr>\n",
       "    <tr>\n",
       "      <th>2</th>\n",
       "      <td>2497.5</td>\n",
       "      <td>2019-01-24T18:12:32.236999</td>\n",
       "      <td>2019/20190124m1</td>\n",
       "    </tr>\n",
       "    <tr>\n",
       "      <th>3</th>\n",
       "      <td>6993.3</td>\n",
       "      <td>2019-01-25T20:21:56.958000</td>\n",
       "      <td>2019/20190125m1</td>\n",
       "    </tr>\n",
       "    <tr>\n",
       "      <th>4</th>\n",
       "      <td>6270.4</td>\n",
       "      <td>2019-03-08T17:20:00.039999</td>\n",
       "      <td>2019/20190308m1</td>\n",
       "    </tr>\n",
       "  </tbody>\n",
       "</table>\n",
       "</div>"
      ],
      "text/plain": [
       "   track_length                  start_date             name\n",
       "0         765.3  2019-03-08T21:17:34.876857  2019/20190308m2\n",
       "1        6294.8  2019-03-14T16:41:52.696998  2019/20190314m1\n",
       "2        2497.5  2019-01-24T18:12:32.236999  2019/20190124m1\n",
       "3        6993.3  2019-01-25T20:21:56.958000  2019/20190125m1\n",
       "4        6270.4  2019-03-08T17:20:00.039999  2019/20190308m1"
      ]
     },
     "execution_count": 16,
     "metadata": {},
     "output_type": "execute_result"
    }
   ],
   "source": [
    "import json\n",
    "import pandas as pd\n",
    "import requests\n",
    "\n",
    "query = \"\"\"query MyQuery {\n",
    "  all_missions {\n",
    "    name\n",
    "    start_date\n",
    "    track_length\n",
    "  }\n",
    "}\"\"\"\n",
    "\n",
    "response = requests.post(\"http://localhost:8001/graphql\", json={'query': query})\n",
    "data = json.loads(response.text)\n",
    "print(data)\n",
    "df = pd.json_normalize(data['data'], record_path=[\"all_missions\"])\n",
    "df"
   ]
  }
 ],
 "metadata": {
  "interpreter": {
   "hash": "e7370f93d1d0cde622a1f8e1c04877d8463912d04d973331ad4851f04de6915a"
  },
  "kernelspec": {
   "display_name": "Python 3.8.5 64-bit",
   "language": "python",
   "name": "python3"
  },
  "language_info": {
   "codemirror_mode": {
    "name": "ipython",
    "version": 3
   },
   "file_extension": ".py",
   "mimetype": "text/x-python",
   "name": "python",
   "nbconvert_exporter": "python",
   "pygments_lexer": "ipython3",
   "version": "3.8.5"
  },
  "orig_nbformat": 4
 },
 "nbformat": 4,
 "nbformat_minor": 2
}
